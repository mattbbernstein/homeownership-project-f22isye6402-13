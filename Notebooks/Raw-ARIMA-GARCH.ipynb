{
 "cells": [
  {
   "cell_type": "code",
   "execution_count": null,
   "id": "ad4b5d89-34c4-4c8f-be1a-acd717f5c89c",
   "metadata": {},
   "outputs": [],
   "source": [
    "options(jupyter.plot_mimetypes = c(\"text/plain\", \"image/png\"))\n",
    "options(jupyter.plot_scale = 1.5)\n",
    "require(\"pacman\")\n",
    "pacman::p_load(tidyverse, lubridate, zoo, ggpubr, ggfortify, forecast)\n",
    "\n",
    "source('../Scripts/ReadData.R')\n",
    "source('../Scripts/ModelSelection.R')\n",
    "source('../Scripts/ResidualAnalysis.R')\n",
    "source('../Scripts/Forecasting.R')"
   ]
  },
  {
   "cell_type": "code",
   "execution_count": null,
   "id": "2f9c6d30-cc19-4363-a844-1781c605e842",
   "metadata": {},
   "outputs": [],
   "source": [
    "homeownership <- read_homeownership()\n",
    "\n",
    "train <- head(homeownership, -4)\n",
    "test <- tail(homeownership, 4)\n",
    "arima_fit <- fit_arima(training_data = train$Value, p_range = 0:5, d_range = 0:2, q_range = 0:5)\n",
    "head(arima_fit)"
   ]
  },
  {
   "cell_type": "code",
   "execution_count": null,
   "id": "b1affd99-2c93-4b64-92cf-42e041f9f89f",
   "metadata": {},
   "outputs": [],
   "source": [
    "arima_model <- arima(train$Value, order = c(4,1,4), method = \"ML\")\n",
    "residual_analysis(arima_model, train$Date)\n",
    "box_tests(arima_model, 8)"
   ]
  },
  {
   "cell_type": "code",
   "execution_count": null,
   "id": "d78f5abb-f925-4b0b-8b42-5b4e0ac0984a",
   "metadata": {},
   "outputs": [],
   "source": [
    "arma_garch_fit <- fit_ugarch(train$Value, 4, 4, 0:5, 0:5, 0:2, 0:2)\n",
    "head(arma_garch_fit$Final)"
   ]
  },
  {
   "cell_type": "code",
   "execution_count": null,
   "id": "db525c8b-dc59-4aa1-b8fb-fa2a83d6a086",
   "metadata": {},
   "outputs": [],
   "source": [
    "spec <- ugarchspec(variance.model=list(garchOrder=c(0,1)),\n",
    "                     mean.model=list(armaOrder=c(4,3),\n",
    "                                     include.mean=T), distribution.model=\"std\")\n",
    "suppressWarnings(ugarch_model1 <- ugarchfit(spec, train$Value, solver = 'hybrid'))\n",
    "residual_analysis(ugarch_model1, train$Date)\n",
    "box_tests(ugarch_model1, 8)"
   ]
  },
  {
   "cell_type": "code",
   "execution_count": null,
   "id": "e2d21b26-0d6a-490f-8b95-086dc5424bcb",
   "metadata": {},
   "outputs": [],
   "source": [
    "spec <- ugarchspec(variance.model=list(garchOrder=c(2,0)),\n",
    "                     mean.model=list(armaOrder=c(4,3),\n",
    "                                     include.mean=T), distribution.model=\"std\")\n",
    "suppressWarnings(ugarch_model2 <- ugarchfit(spec, train$Value, solver = 'hybrid'))\n",
    "residual_analysis(ugarch_model2, train$Date)\n",
    "box_tests(ugarch_model2, 9)"
   ]
  },
  {
   "cell_type": "code",
   "execution_count": null,
   "id": "b3481f01-de4c-4a4e-8074-bf08526eb3ed",
   "metadata": {},
   "outputs": [],
   "source": [
    "spec <- ugarchspec(variance.model=list(garchOrder=c(1,1)),\n",
    "                     mean.model=list(armaOrder=c(4,3),\n",
    "                                     include.mean=T), distribution.model=\"std\")\n",
    "suppressWarnings(ugarch_model3 <- ugarchfit(spec, train$Value, solver = 'hybrid'))\n",
    "residual_analysis(ugarch_model3, train$Date)\n",
    "box_tests(ugarch_model3, 12)"
   ]
  },
  {
   "cell_type": "code",
   "execution_count": null,
   "id": "851b0609-4508-4531-bb98-7eecb63f15bf",
   "metadata": {},
   "outputs": [],
   "source": [
    "fc <- forecast_arima(arima_model, homeownership$Date, test$Value, 4, 95,\n",
    "                    y_lab = \"Homeownership Rate (%)\")\n",
    "fc$plot\n",
    "fc_data <- tail(fc$data, 4)\n",
    "cat(\"PM = \", prec_measure(fc_data$Observed, fc_data$Forecast))\n",
    "accuracy(fc_data$Forecast, x = fc_data$Observed)"
   ]
  },
  {
   "cell_type": "code",
   "execution_count": null,
   "id": "ca370052-2615-46b3-be34-7246131fb3b2",
   "metadata": {},
   "outputs": [],
   "source": [
    "source('../Scripts/Forecasting.R')\n",
    "fc <- forecast_ugarchroll(ugarch_model1, homeownership$Date, test$Value, 4,\n",
    "                          y_lab = c(\"Homeownership Rate (%)\", \"Homeownership Rate Variance\"))\n",
    "fc$plot\n",
    "fc_data <- tail(fc$data, 4)\n",
    "cat(\"PM = \", prec_measure(fc_data$Observed, fc_data$Forecast))\n",
    "accuracy(fc_data$Forecast, x = fc_data$Observed)"
   ]
  },
  {
   "cell_type": "code",
   "execution_count": null,
   "id": "4ab511ec-19a3-4669-aad8-543db03003e8",
   "metadata": {},
   "outputs": [],
   "source": [
    "fc <- forecast_ugarchroll(ugarch_model2, homeownership$Date, test$Value, 4,\n",
    "                          y_lab = c(\"Homeownership Rate (%)\", \"Homeownership Rate Variance\"))\n",
    "fc$plot\n",
    "fc_data <- tail(fc$data, 4)\n",
    "cat(\"PM = \", prec_measure(fc_data$Observed, fc_data$Forecast))\n",
    "accuracy(fc_data$Forecast, x = fc_data$Observed)"
   ]
  },
  {
   "cell_type": "code",
   "execution_count": null,
   "id": "53117c0b-fe4c-4006-ad97-560340c869ac",
   "metadata": {},
   "outputs": [],
   "source": [
    "fc <- forecast_ugarchroll(ugarch_model3, homeownership$Date, test$Value, 4,\n",
    "                          y_lab = c(\"Homeownership Rate (%)\", \"Homeownership Rate Variance\"))\n",
    "fc$plo\n",
    "fc_data <- tail(fc$data, 4)\n",
    "cat(\"PM = \", prec_measure(fc_data$Observed, fc_data$Forecast))\n",
    "accuracy(fc_data$Forecast, x = fc_data$Observed)"
   ]
  }
 ],
 "metadata": {
  "kernelspec": {
   "display_name": "R",
   "language": "R",
   "name": "ir"
  },
  "language_info": {
   "codemirror_mode": "r",
   "file_extension": ".r",
   "mimetype": "text/x-r-source",
   "name": "R",
   "pygments_lexer": "r",
   "version": "4.1.3"
  }
 },
 "nbformat": 4,
 "nbformat_minor": 5
}
