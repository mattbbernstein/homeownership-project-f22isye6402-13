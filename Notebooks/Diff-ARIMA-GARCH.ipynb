{
 "cells": [
  {
   "cell_type": "code",
   "execution_count": null,
   "id": "ad4b5d89-34c4-4c8f-be1a-acd717f5c89c",
   "metadata": {},
   "outputs": [],
   "source": [
    "options(jupyter.plot_mimetypes = c(\"text/plain\", \"image/png\"))\n",
    "options(jupyter.plot_scale = 1.5)\n",
    "require(\"pacman\")\n",
    "pacman::p_load(tidyverse, lubridate, zoo, ggpubr, ggfortify, forecast)\n",
    "\n",
    "source('../Scripts/ReadData.R')\n",
    "source('../Scripts/ModelSelection.R')\n",
    "source('../Scripts/ResidualAnalysis.R')\n",
    "source('../Scripts/Forecasting.R')"
   ]
  },
  {
   "cell_type": "code",
   "execution_count": null,
   "id": "be139e21-d7ce-4db9-a20f-bf0f8a036966",
   "metadata": {},
   "outputs": [],
   "source": [
    "homeownership <- read_homeownership()\n",
    "homeownership <- homeownership %>% mutate(dValue = Value - lag(Value)) %>% drop_na\n",
    "\n",
    "p1 <- homeownership %>% ggplot() +\n",
    "    geom_line(aes(x = Date, y = dValue)) +\n",
    "    labs(y = \"Change in Homeownership Rate\", title = \"Day over Day Change in Homeownership Rate\")\n",
    "p2 <- ggAcf(homeownership$dValue) + \n",
    "    labs(title = \"ACF for Change in Homeownership Rate\")\n",
    "ggarrange(p1, p2, nrow = 2, ncol = 1)"
   ]
  },
  {
   "cell_type": "code",
   "execution_count": null,
   "id": "68167859-9b94-44fe-86b1-fb1179f82322",
   "metadata": {},
   "outputs": [],
   "source": [
    "train <- head(homeownership, -4)\n",
    "test <- tail(homeownership, 4)\n",
    "arima_fit <- fit_arima(training_data = train$dValue, p_range = 0:5, d_range = 0:2, q_range = 0:5)\n",
    "head(arima_fit)"
   ]
  },
  {
   "cell_type": "code",
   "execution_count": null,
   "id": "b1affd99-2c93-4b64-92cf-42e041f9f89f",
   "metadata": {},
   "outputs": [],
   "source": [
    "suppressWarnings(arima_model <- arima(train$dValue, order = c(4,0,4), method = \"ML\"))\n",
    "residual_analysis(arima_model, train$Date)\n",
    "box_tests(arima_model, 8)"
   ]
  },
  {
   "cell_type": "code",
   "execution_count": null,
   "id": "d78f5abb-f925-4b0b-8b42-5b4e0ac0984a",
   "metadata": {},
   "outputs": [],
   "source": [
    "arma_garch_fit <- fit_ugarch(train$dValue, 4, 4, 0:5, 0:5, 0:2, 0:2)\n",
    "head(arma_garch_fit$Final)"
   ]
  },
  {
   "cell_type": "code",
   "execution_count": null,
   "id": "db525c8b-dc59-4aa1-b8fb-fa2a83d6a086",
   "metadata": {},
   "outputs": [],
   "source": [
    "spec <- ugarchspec(variance.model=list(garchOrder=c(0,1)),\n",
    "                     mean.model=list(armaOrder=c(3,2),\n",
    "                                     include.mean=T), distribution.model=\"std\")\n",
    "suppressWarnings(ugarch_model1 <- ugarchfit(spec, train$dValue, solver = 'hybrid'))\n",
    "residual_analysis(ugarch_model1, train$Date)\n",
    "box_tests(ugarch_model1, 6)"
   ]
  },
  {
   "cell_type": "code",
   "execution_count": null,
   "id": "a75a8dcc-6ae5-46e7-a97f-edbeccfb36a5",
   "metadata": {},
   "outputs": [],
   "source": [
    "spec <- ugarchspec(variance.model=list(garchOrder=c(2,0)),\n",
    "                     mean.model=list(armaOrder=c(3,2),\n",
    "                                     include.mean=T), distribution.model=\"std\")\n",
    "suppressWarnings(ugarch_model2 <- ugarchfit(spec, train$dValue, solver = 'hybrid'))\n",
    "residual_analysis(ugarch_model2, train$Date)\n",
    "box_tests(ugarch_model2, 7)"
   ]
  },
  {
   "cell_type": "code",
   "execution_count": null,
   "id": "68a94ffc-29cd-413d-a093-1f0ccfd510b4",
   "metadata": {},
   "outputs": [],
   "source": [
    "spec <- ugarchspec(variance.model=list(garchOrder=c(1,1)),\n",
    "                     mean.model=list(armaOrder=c(3,2),\n",
    "                                     include.mean=T), distribution.model=\"std\")\n",
    "suppressWarnings(ugarch_model3 <- ugarchfit(spec, train$dValue, solver = 'hybrid'))\n",
    "residual_analysis(ugarch_model3, train$Date)\n",
    "box_tests(ugarch_model3, 8)"
   ]
  },
  {
   "cell_type": "code",
   "execution_count": null,
   "id": "851b0609-4508-4531-bb98-7eecb63f15bf",
   "metadata": {},
   "outputs": [],
   "source": [
    "fc <- forecast_arima(arima_model, homeownership$Date, test$dValue, 4, 95,\n",
    "                    y_lab = \"Change in Homeownership Rate (%)\")\n",
    "fc$plot\n",
    "fc_data <- tail(fc$data, 4)\n",
    "cat(\"PM = \", prec_measure(fc_data$Observed, fc_data$Forecast))\n",
    "accuracy(fc_data$Forecast, x = fc_data$Observed)"
   ]
  },
  {
   "cell_type": "code",
   "execution_count": null,
   "id": "ca370052-2615-46b3-be34-7246131fb3b2",
   "metadata": {},
   "outputs": [],
   "source": [
    "fc <- forecast_ugarchroll(ugarch_model1, homeownership$Date, test$dValue, 4,\n",
    "                          y_lab = c(\"Change in Homeownership Rate (%)\", \"Change in Homeownership Rate Variance\"))\n",
    "fc$plot\n",
    "fc_data <- tail(fc$data, 4)\n",
    "cat(\"PM = \", prec_measure(fc_data$Observed, fc_data$Forecast))\n",
    "accuracy(fc_data$Forecast, x = fc_data$Observed)"
   ]
  },
  {
   "cell_type": "code",
   "execution_count": null,
   "id": "43395a87-5438-4012-a9ef-4df47e08db26",
   "metadata": {},
   "outputs": [],
   "source": [
    "fc <- forecast_ugarchroll(ugarch_model2, homeownership$Date, test$dValue, 4,\n",
    "                          y_lab = c(\"Change in Homeownership Rate (%)\", \"Change in Homeownership Rate Variance\"))\n",
    "fc$plot\n",
    "fc_data <- tail(fc$data, 4)\n",
    "cat(\"PM = \", prec_measure(fc_data$Observed, fc_data$Forecast))\n",
    "accuracy(fc_data$Forecast, x = fc_data$Observed)"
   ]
  },
  {
   "cell_type": "code",
   "execution_count": null,
   "id": "22d1195b-0a20-46c6-b758-b366f141704d",
   "metadata": {},
   "outputs": [],
   "source": [
    "fc <- forecast_ugarchroll(ugarch_model3, homeownership$Date, test$dValue, 4,\n",
    "                          y_lab = c(\"Change in Homeownership Rate (%)\", \"Change in Homeownership Rate Variance\"))\n",
    "fc$plot\n",
    "fc_data <- tail(fc$data, 4)\n",
    "cat(\"PM = \", prec_measure(fc_data$Observed, fc_data$Forecast))\n",
    "accuracy(fc_data$Forecast, x = fc_data$Observed)"
   ]
  }
 ],
 "metadata": {
  "kernelspec": {
   "display_name": "R",
   "language": "R",
   "name": "ir"
  },
  "language_info": {
   "codemirror_mode": "r",
   "file_extension": ".r",
   "mimetype": "text/x-r-source",
   "name": "R",
   "pygments_lexer": "r",
   "version": "4.1.3"
  }
 },
 "nbformat": 4,
 "nbformat_minor": 5
}
